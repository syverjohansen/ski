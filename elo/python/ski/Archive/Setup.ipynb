{
 "cells": [
  {
   "cell_type": "code",
   "execution_count": 1,
   "metadata": {
    "collapsed": true,
    "jupyter": {
     "outputs_hidden": true
    }
   },
   "outputs": [],
   "source": [
    "import pandas as pd\n",
    "from bs4 import BeautifulSoup\n",
    "import numpy as np\n",
    "from urllib.request import urlopen\n",
    "from datetime import datetime\n",
    "import re\n",
    "import time\n",
    "import logging"
   ]
  },
  {
   "cell_type": "code",
   "execution_count": 2,
   "metadata": {
    "collapsed": false,
    "jupyter": {
     "outputs_hidden": false
    }
   },
   "outputs": [],
   "source": [
    "#Make sure that everything is in the right order.\n",
    "def setup(df):\n",
    "    #Column order is Date, City, Country, Sex, Distance, MS, Technique, Place, Name, Nation, ID, Season, Race \n",
    "    #Sort by Season (asc), race (asc), place (asc)\n",
    "    df = df[[\"Date\", \"City\", \"Country\",\"Event\", \"Sex\", \"Distance\", \"MS\", \"Technique\", \"Place\", \"Name\", \"Nation\", \"ID\",\n",
    "            \"Season\", \"Race\", \"Birthday\", \"Age\", \"Exp\"]]\n",
    "    df['Name']= df['Name'].str.replace('Ã¸', 'ø')\n",
    "    df['Name']= df['Name'].str.replace('Ã¤', 'ä')\n",
    "    df['Name']= df['Name'].str.replace('Ã¼', 'ü')\n",
    "    df['Name'] = df['Name'].str.replace('Ã¶', 'ö')\n",
    "    df['Name'] = df['Name'].str.replace('Ã', 'Ø')\n",
    "    df['Name'] = df['Name'].str.replace('Ã¦', 'æ')\n",
    "    df['Name']= df['Name'].str.replace('Ã¥', 'å')\n",
    "    df['Name']= df['Name'].str.replace('Ã",
    "', 'Å')\n",
    "    df = df.sort_values(by=['Season', 'Race', 'Place'], ascending=[True, True, True])\n",
    "    df = pl.col(\"Technique\").fill_null(\"\")\n",
    "    return df"
   ]
  },
  {
   "cell_type": "code",
   "execution_count": null,
   "metadata": {
    "collapsed": true,
    "jupyter": {
     "outputs_hidden": true
    }
   },
   "outputs": [],
   "source": []
  },
  {
   "cell_type": "code",
   "execution_count": 3,
   "metadata": {
    "collapsed": false,
    "jupyter": {
     "outputs_hidden": false
    },
    "scrolled": true
   },
   "outputs": [],
   "source": [
    "#Read in Excel file by worksheet\n",
    "men_df = pd.read_excel(\"~/ski/elo/python/ski/excel365/age_demo.xlsx\", sheet_name=\"Men\")\n",
    "ladies_df = pd.read_excel(\"~/ski/elo/python/ski/excel365/age_demo.xlsx\", sheet_name=\"Ladies\")"
   ]
  },
  {
   "cell_type": "code",
   "execution_count": 4,
   "metadata": {
    "collapsed": false,
    "jupyter": {
     "outputs_hidden": false
    }
   },
   "outputs": [
    {
     "name": "stdout",
     "output_type": "stream",
     "text": [
      "55.88081479072571\n"
     ]
    }
   ],
   "source": [
    "import warnings\n",
    "warnings.filterwarnings('ignore')\n",
    "start_time = time.time()\n",
    "#0 is men, 1 is women\n",
    "for a in range(0,2):\n",
    "    if(a==0):\n",
    "        sheet = \"Men\"\n",
    "        men_df = setup(men_df)\n",
    "    else:\n",
    "        sheet = \"Ladies\"\n",
    "        ladies_df = setup(ladies_df)\n",
    "writer = pd.ExcelWriter(\"/Users/syverjohansen/ski/elo/python/ski/excel365/setup_demo.xlsx\")\n",
    "ladies_df.to_excel(writer, sheet_name='Ladies', index=False)\n",
    "men_df.to_excel(writer, sheet_name='Men', index=False)\n",
    "writer.save()\n",
    "print(time.time() - start_time)"
   ]
  },
  {
   "cell_type": "code",
   "execution_count": null,
   "metadata": {
    "collapsed": true,
    "jupyter": {
     "outputs_hidden": true
    }
   },
   "outputs": [],
   "source": []
  }
 ],
 "metadata": {
  "kernelspec": {
   "display_name": "Python 3.12",
   "language": "python",
   "name": "python3.12"
  },
  "language_info": {
   "codemirror_mode": {
    "name": "ipython",
    "version": 3
   },
   "file_extension": ".py",
   "mimetype": "text/x-python",
   "name": "python",
   "nbconvert_exporter": "python",
   "pygments_lexer": "ipython3",
   "version": "3.12.4"
  }
 },
 "nbformat": 4,
 "nbformat_minor": 4
}
