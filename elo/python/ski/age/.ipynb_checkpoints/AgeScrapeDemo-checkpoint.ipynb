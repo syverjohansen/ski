{
 "cells": [
  {
   "cell_type": "code",
   "execution_count": 23,
   "metadata": {
    "collapsed": true
   },
   "outputs": [],
   "source": [
    "import pandas as pd\n",
    "from bs4 import BeautifulSoup\n",
    "import numpy as np\n",
    "from urllib.request import urlopen\n",
    "from datetime import datetime\n",
    "import re\n",
    "import time"
   ]
  },
  {
   "cell_type": "code",
   "execution_count": null,
   "metadata": {
    "collapsed": true
   },
   "outputs": [],
   "source": []
  },
  {
   "cell_type": "code",
   "execution_count": null,
   "metadata": {
    "collapsed": true
   },
   "outputs": [],
   "source": []
  },
  {
   "cell_type": "code",
   "execution_count": 62,
   "metadata": {
    "collapsed": true
   },
   "outputs": [],
   "source": [
    "#This function will get a skiers age and experience at a given race\n",
    "def get_ages(df, sex):\n",
    "    #Set the birthday column to NA (default for people who don't have an age listed)\n",
    "    df['birthday'] =np.nan\n",
    "    \n",
    "    #Set age/exp to 0\n",
    "    df['age'] = 0\n",
    "    df['exp'] = 0\n",
    "    \n",
    "    #Get the list of the unique IDs\n",
    "    id_list = list(df['id'].unique())\n",
    "    \n",
    "    #Create a list of the URLs based on their IDs\n",
    "    id_urls = list(map(lambda x: \"https://firstskisport.com/cross-country/athlete.php?id=\"+str(x), id_list))\n",
    "    \n",
    "    #Get today's date (so it won't have to be recalculated several times)\n",
    "    today = datetime.today()\n",
    "    \n",
    "    #Assign the date to the correct datetime format\n",
    "    df['date'] = pd.to_datetime((df['date']), format='%Y%m%d')\n",
    "    \n",
    "    \n",
    "    #Go through the IDs and use BeautifulSoup to go to each skiers page to get their birthday\n",
    "    #for a in range(10):\n",
    "    for a in range(len(id_urls)):\n",
    "        if(a%100==0):\n",
    "            print(a)\n",
    "        #Get the exp by separating the ids in the dataframe and assigning them 1 to length of their list\n",
    "        df.loc[df.id==id_list[a], 'exp'] = range(1,1+len(df.loc[df.id==id_list[a], 'exp']))\n",
    "        \n",
    "        #Get the soup fired up\n",
    "        id_soup = BeautifulSoup(urlopen(id_urls[a]), 'html.parser')\n",
    "    \n",
    "        #Get the birthday\n",
    "        birthday = str(id_soup.body.find('h2').text)\n",
    "        birthday = birthday.split(\",\")\n",
    "        birthday = birthday[2].strip()\n",
    "        #Convert it to the right format\n",
    "        #Not all have dates, so we have to do some exceptions\n",
    "        try:\n",
    "            day, month_year = birthday.split('.')\n",
    "            month, year = month_year.strip().split()\n",
    "\n",
    "            #Create a month map\n",
    "            month_map = {\n",
    "    'Jan': 1, 'Feb': 2, 'Mar': 3, 'Apr': 4,\n",
    "    'May': 5, 'Jun': 6, 'Jul': 7, 'Aug': 8,\n",
    "    'Sep': 9, 'Oct': 10, 'Nov': 11, 'Dec': 12\n",
    "    }\n",
    "            #Get the month of the date using the map\n",
    "            month_num = month_map[month]\n",
    "            \n",
    "            #Assign the birthday using the map\n",
    "            birthday = datetime(int(year), month_num, int(day))\n",
    "            \n",
    "             #Assign the birthday for all the skier with that id        \n",
    "            df.loc[df.id==id_list[a], 'birthday'] = birthday\n",
    "\n",
    "            #Assign the age to that skier being the date of the race - their age\n",
    "            df.loc[df.id==id_list[a], 'age'] = df.loc[df.id==id_list[a], 'date'] - df.loc[df.id==id_list[a], 'birthday']\n",
    "            df.loc[df.id==id_list[a], 'age'] = df.loc[df.id==id_list[a], 'age'] / np.timedelta64(1,'Y')\n",
    "            \n",
    "        #Not everyone has birthdays listed, we have to make exceptions    \n",
    "        except:\n",
    "            #Some just have their age listed\n",
    "            #Birthday will just be todays date minus the age\n",
    "            try:\n",
    "                age = re.search(r'\\((\\d+)\\)', birthday)\n",
    "                age = int(age.group(1))\n",
    "                birthday = datetime(today.year-age, today.month, today.day)\n",
    "                \n",
    "                 #Assign the birthday for all the skier with that id        \n",
    "                df.loc[df.id==id_list[a], 'birthday'] = birthday\n",
    "\n",
    "                #Assign the age to that skier being the date of the race - their age\n",
    "                df.loc[df.id==id_list[a], 'age'] = df.loc[df.id==id_list[a], 'date'] - df.loc[df.id==id_list[a], 'birthday']\n",
    "                df.loc[df.id==id_list[a], 'age'] = df.loc[df.id==id_list[a], 'age'] / np.timedelta64(1,'Y')\n",
    "            #For those who don't have anything listed, it will just have to be empty :(\n",
    "            except:\n",
    "                birthday = \"\"\n",
    "                age = \"\"\n",
    "                df.loc[df.id==id_list[a], 'age'] = \"\"\n",
    "                df.loc[df.id==id_list[a], 'age'] = \"\"\n",
    "        #Assign the birthday for all the skier with that id        \n",
    "\n",
    "    return df\n",
    "        \n",
    "        "
   ]
  },
  {
   "cell_type": "code",
   "execution_count": null,
   "metadata": {
    "collapsed": true
   },
   "outputs": [],
   "source": [
    "\n",
    "    "
   ]
  },
  {
   "cell_type": "code",
   "execution_count": 21,
   "metadata": {
    "collapsed": false,
    "scrolled": true
   },
   "outputs": [],
   "source": [
    "#Read in Excel file by worksheet.  \n",
    "men_df = pd.read_excel(\"~/ski/elo/python/ski/excel365/all_demo.xlsx\", sheet_name=\"men\")\n",
    "ladies_df = pd.read_excel(\"~/ski/elo/python/ski/excel365/all_demo.xlsx\", sheet_name=\"ladies\")"
   ]
  },
  {
   "cell_type": "code",
   "execution_count": 63,
   "metadata": {
    "collapsed": false
   },
   "outputs": [
    {
     "name": "stdout",
     "output_type": "stream",
     "text": [
      "0\n",
      "100\n",
      "200\n",
      "300\n",
      "400\n",
      "500\n",
      "600\n",
      "700\n",
      "800\n",
      "900\n",
      "1000\n",
      "1100\n",
      "1200\n",
      "1300\n",
      "1400\n",
      "1500\n",
      "1600\n",
      "1700\n",
      "1800\n",
      "1900\n",
      "2000\n",
      "2100\n",
      "2200\n",
      "2300\n",
      "2400\n",
      "2500\n",
      "2600\n",
      "2700\n",
      "2800\n",
      "2900\n",
      "3000\n",
      "3100\n",
      "3200\n",
      "3300\n",
      "3400\n",
      "3500\n",
      "3600\n",
      "3700\n",
      "3800\n",
      "3900\n",
      "4000\n",
      "4100\n",
      "4200\n",
      "4300\n",
      "4400\n",
      "4500\n",
      "4600\n",
      "4700\n",
      "4800\n",
      "4900\n",
      "5000\n",
      "5100\n",
      "5200\n",
      "5300\n"
     ]
    },
    {
     "ename": "NameError",
     "evalue": "name 'sheet' is not defined",
     "output_type": "error",
     "traceback": [
      "\u001b[0;31m---------------------------------------------------------------------------\u001b[0m",
      "\u001b[0;31mNameError\u001b[0m                                 Traceback (most recent call last)",
      "Cell \u001b[0;32mIn[63], line 9\u001b[0m\n\u001b[1;32m      7\u001b[0m     df \u001b[38;5;241m=\u001b[39m get_ages(men_df, \u001b[38;5;124m\"\u001b[39m\u001b[38;5;124mM\u001b[39m\u001b[38;5;124m\"\u001b[39m)\n\u001b[1;32m      8\u001b[0m     \u001b[38;5;28;01mwith\u001b[39;00m pd\u001b[38;5;241m.\u001b[39mExcelWriter(\u001b[38;5;124m\"\u001b[39m\u001b[38;5;124m/Users/syverjohansen/ski/elo/python/ski/excel365/all_demo.xlsx\u001b[39m\u001b[38;5;124m\"\u001b[39m, engine\u001b[38;5;241m=\u001b[39m\u001b[38;5;124m'\u001b[39m\u001b[38;5;124mxlsxwriter\u001b[39m\u001b[38;5;124m'\u001b[39m) \u001b[38;5;28;01mas\u001b[39;00m writer:\n\u001b[0;32m----> 9\u001b[0m         df\u001b[38;5;241m.\u001b[39mto_excel(writer, sheet_name\u001b[38;5;241m=\u001b[39m\u001b[43msheet\u001b[49m, index\u001b[38;5;241m=\u001b[39m\u001b[38;5;28;01mFalse\u001b[39;00m)\n\u001b[1;32m     10\u001b[0m \u001b[38;5;28;01melse\u001b[39;00m:\n\u001b[1;32m     11\u001b[0m     df \u001b[38;5;241m=\u001b[39m get_ages(ladies_df, \u001b[38;5;124m\"\u001b[39m\u001b[38;5;124mL\u001b[39m\u001b[38;5;124m\"\u001b[39m)\n",
      "\u001b[0;31mNameError\u001b[0m: name 'sheet' is not defined"
     ]
    }
   ],
   "source": [
    "import warnings\n",
    "warnings.filterwarnings('ignore')\n",
    "start_time = time.time()\n",
    "#0 is men, 1 is women\n",
    "for a in range(0,2):\n",
    "    if(a==0):\n",
    "        sheet = \"men\"\n",
    "        df = get_ages(men_df, \"M\")\n",
    "        with pd.ExcelWriter(\"/Users/syverjohansen/ski/elo/python/ski/excel365/all_demo.xlsx\", engine='xlsxwriter') as writer:\n",
    "            df.to_excel(writer, sheet_name=sheet, index=False)\n",
    "    else:\n",
    "        sheet = \"ladies\"\n",
    "        df = get_ages(ladies_df, \"L\")\n",
    "        with pd.ExcelWriter(\"/Users/syverjohansen/ski/elo/python/ski/excel365/all_demo.xlsx\", engine='xlsxwriter') as writer:\n",
    "            df.to_excel(writer, sheet_name=sheet, index=False)\n",
    "print(time.time() - start_time)"
   ]
  },
  {
   "cell_type": "code",
   "execution_count": 55,
   "metadata": {
    "collapsed": false
   },
   "outputs": [
    {
     "name": "stdout",
     "output_type": "stream",
     "text": [
      "5\n"
     ]
    }
   ],
   "source": [
    "today = datetime.today()\n",
    "print(today.month)"
   ]
  },
  {
   "cell_type": "code",
   "execution_count": null,
   "metadata": {
    "collapsed": true
   },
   "outputs": [],
   "source": []
  }
 ],
 "metadata": {
  "kernelspec": {
   "display_name": "Python 3 (ipykernel)",
   "language": "python",
   "name": "python3"
  },
  "language_info": {
   "codemirror_mode": {
    "name": "ipython",
    "version": 3
   },
   "file_extension": ".py",
   "mimetype": "text/x-python",
   "name": "python",
   "nbconvert_exporter": "python",
   "pygments_lexer": "ipython3",
   "version": "3.9.1"
  }
 },
 "nbformat": 4,
 "nbformat_minor": 0
}
